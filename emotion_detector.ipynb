{
 "cells": [
  {
   "cell_type": "code",
   "execution_count": 1,
   "metadata": {},
   "outputs": [],
   "source": [
    "import pandas as pd\n",
    "import numpy as np\n",
    "import tensorflow as tf\n",
    "import os\n",
    "import cv2\n",
    "import matplotlib.pyplot as plt\n",
    "from tensorflow.keras.callbacks import Callback, EarlyStopping, ReduceLROnPlateau, ModelCheckpoint\n",
    "from sklearn.model_selection import train_test_split\n"
   ]
  },
  {
   "cell_type": "code",
   "execution_count": 2,
   "metadata": {},
   "outputs": [],
   "source": [
    "def make_dataset(path):\n",
    "    images=[]\n",
    "    angry=0\n",
    "    sad=0\n",
    "    happy=0\n",
    "    other=0\n",
    "    for filename in os.listdir(path):\n",
    "        new_path=os.path.join(path,filename)\n",
    "        for img in os.listdir(new_path):\n",
    "            image=cv2.imread(os.path.join(new_path,img))\n",
    "            image=cv2.resize(image,(224,224))\n",
    "            if image is not None:\n",
    "                if filename==\"Angry\":\n",
    "                    images.append(image)\n",
    "                    angry+=1\n",
    "                elif filename==\"Sad\":\n",
    "                    images.append(image)\n",
    "                    sad+=1\n",
    "                elif filename==\"happy\":\n",
    "                    images.append(image)\n",
    "                    happy+=1\n",
    "    Angry=np.zeros(angry)\n",
    "    Sad=np.ones(sad)\n",
    "    Happy=np.repeat(2,happy)\n",
    "    label=np.hstack((Angry,Sad,Happy))\n",
    "    label=tf.keras.utils.to_categorical(label,num_classes=3)\n",
    "    return images,label"
   ]
  },
  {
   "cell_type": "code",
   "execution_count": 3,
   "metadata": {},
   "outputs": [
    {
     "name": "stdout",
     "output_type": "stream",
     "text": [
      "(812, 224, 224, 3) (812, 3)\n"
     ]
    }
   ],
   "source": [
    "images,label=make_dataset(\"Master Folder\")\n",
    "images=np.array(images)\n",
    "print(images.shape,label.shape)"
   ]
  },
  {
   "cell_type": "code",
   "execution_count": 4,
   "metadata": {},
   "outputs": [],
   "source": [
    "train_X,trail_X,train_label,trail_label=train_test_split(images,label,test_size=0.3,random_state=42,shuffle=True,stratify=label)\n",
    "validation_X,test_X,validation_label,test_label=train_test_split(images,label,test_size=0.7,random_state=42,shuffle=True,stratify=label)"
   ]
  },
  {
   "cell_type": "code",
   "execution_count": 5,
   "metadata": {},
   "outputs": [],
   "source": [
    "def preprocess_image(images):\n",
    "    image=tf.cast(images,tf.float32)/255.0\n",
    "    return image"
   ]
  },
  {
   "cell_type": "code",
   "execution_count": 6,
   "metadata": {},
   "outputs": [],
   "source": [
    "train_X=preprocess_image(train_X)\n",
    "validation_X=preprocess_image(validation_X)\n",
    "test_X=preprocess_image(test_X)"
   ]
  },
  {
   "cell_type": "code",
   "execution_count": 7,
   "metadata": {},
   "outputs": [],
   "source": [
    "callbacks=[EarlyStopping(monitor = \"val_loss\", patience = 10, \n",
    "            restore_best_weights = True, mode='min')\n",
    "            ,ReduceLROnPlateau(monitor='val_loss', factor=0.2, patience=5, mode='min')\n",
    "            ,ModelCheckpoint('.mdl_wts.hdf5', save_best_only=True, monitor='val_loss', mode='min')\n",
    "            ]"
   ]
  },
  {
   "cell_type": "code",
   "execution_count": 45,
   "metadata": {},
   "outputs": [],
   "source": [
    "def model_build(inputs):\n",
    "    \n",
    "    # x=tf.keras.layers.Conv2D(16,activation='relu',kernel_size=3,input_shape=(224,224,3))(inputs)\n",
    "    # x=tf.keras.layers.AveragePooling2D((2,2))(x)\n",
    "    \n",
    "    # x=tf.keras.layers.Conv2D(32,activation='relu',kernel_size=3)(x)\n",
    "    # x=tf.keras.layers.AveragePooling2D((2,2))(x)\n",
    "    \n",
    "    # x=tf.keras.layers.Conv2D(64,activation='relu',kernel_size=3)(x)\n",
    "    # x=tf.keras.layers.AveragePooling2D((6,6))(x)\n",
    "\n",
    "    feature_extract=tf.keras.applications.mobilenet_v2.MobileNetV2(input_shape=(224,224,3),weights=\"imagenet\",include_top=False)\n",
    "    feature_extract.trainable=False\n",
    "    x=feature_extract(inputs,training=False)\n",
    "    x=tf.keras.layers.AveragePooling2D((3,3))(x)\n",
    "    x=tf.keras.layers.Flatten()(x)\n",
    "    x=tf.keras.layers.Dropout(0.5)(x)\n",
    "    x=tf.keras.layers.Dense(64,activation='relu')(x)\n",
    "    x=tf.keras.layers.Dropout(0.5)(x)\n",
    "    x=tf.keras.layers.Dense(3,activation='sigmoid')(x)\n",
    "    \n",
    "    return x"
   ]
  },
  {
   "cell_type": "code",
   "execution_count": 46,
   "metadata": {},
   "outputs": [],
   "source": [
    "def define_compile_model():\n",
    "    inputs=tf.keras.layers.Input(shape=(224,224,3))\n",
    "    output=model_build(inputs)\n",
    "    model=tf.keras.Model(inputs=inputs,outputs=output)\n",
    "    model.compile(optimizer='adam',loss='categorical_crossentropy',metrics=['accuracy'])\n",
    "    return model"
   ]
  },
  {
   "cell_type": "code",
   "execution_count": 47,
   "metadata": {},
   "outputs": [
    {
     "name": "stdout",
     "output_type": "stream",
     "text": [
      "Model: \"model_8\"\n",
      "_________________________________________________________________\n",
      " Layer (type)                Output Shape              Param #   \n",
      "=================================================================\n",
      " input_14 (InputLayer)       [(None, 224, 224, 3)]     0         \n",
      "                                                                 \n",
      " mobilenetv2_1.00_224 (Func  (None, 7, 7, 1280)        2257984   \n",
      " tional)                                                         \n",
      "                                                                 \n",
      " average_pooling2d_17 (Aver  (None, 2, 2, 1280)        0         \n",
      " agePooling2D)                                                   \n",
      "                                                                 \n",
      " flatten_8 (Flatten)         (None, 5120)              0         \n",
      "                                                                 \n",
      " dropout_21 (Dropout)        (None, 5120)              0         \n",
      "                                                                 \n",
      " dense_21 (Dense)            (None, 64)                327744    \n",
      "                                                                 \n",
      " dropout_22 (Dropout)        (None, 64)                0         \n",
      "                                                                 \n",
      " dense_22 (Dense)            (None, 3)                 195       \n",
      "                                                                 \n",
      "=================================================================\n",
      "Total params: 2585923 (9.86 MB)\n",
      "Trainable params: 327939 (1.25 MB)\n",
      "Non-trainable params: 2257984 (8.61 MB)\n",
      "_________________________________________________________________\n"
     ]
    }
   ],
   "source": [
    "model=define_compile_model()\n",
    "model.summary()"
   ]
  },
  {
   "cell_type": "code",
   "execution_count": 48,
   "metadata": {},
   "outputs": [
    {
     "name": "stdout",
     "output_type": "stream",
     "text": [
      "Epoch 1/50\n",
      "36/36 [==============================] - 32s 779ms/step - loss: 1.5731 - accuracy: 0.4894 - val_loss: 0.8102 - val_accuracy: 0.6008 - lr: 0.0010\n",
      "Epoch 2/50\n",
      "36/36 [==============================] - 27s 742ms/step - loss: 0.8795 - accuracy: 0.5863 - val_loss: 0.6521 - val_accuracy: 0.7572 - lr: 0.0010\n",
      "Epoch 3/50\n",
      "36/36 [==============================] - 26s 725ms/step - loss: 0.7680 - accuracy: 0.6514 - val_loss: 0.5150 - val_accuracy: 0.8148 - lr: 0.0010\n",
      "Epoch 4/50\n",
      "36/36 [==============================] - 26s 725ms/step - loss: 0.6867 - accuracy: 0.7113 - val_loss: 0.4519 - val_accuracy: 0.8519 - lr: 0.0010\n",
      "Epoch 5/50\n",
      "36/36 [==============================] - 27s 758ms/step - loss: 0.6103 - accuracy: 0.7500 - val_loss: 0.3504 - val_accuracy: 0.8765 - lr: 0.0010\n",
      "Epoch 6/50\n",
      "36/36 [==============================] - 26s 741ms/step - loss: 0.5275 - accuracy: 0.7465 - val_loss: 0.2838 - val_accuracy: 0.9218 - lr: 0.0010\n",
      "Epoch 7/50\n",
      "36/36 [==============================] - 26s 726ms/step - loss: 0.4911 - accuracy: 0.7975 - val_loss: 0.2382 - val_accuracy: 0.9300 - lr: 0.0010\n",
      "Epoch 8/50\n",
      "36/36 [==============================] - 26s 718ms/step - loss: 0.4576 - accuracy: 0.7905 - val_loss: 0.2242 - val_accuracy: 0.9300 - lr: 0.0010\n",
      "Epoch 9/50\n",
      "36/36 [==============================] - 25s 713ms/step - loss: 0.3954 - accuracy: 0.8345 - val_loss: 0.1838 - val_accuracy: 0.9712 - lr: 0.0010\n",
      "Epoch 10/50\n",
      "36/36 [==============================] - 26s 723ms/step - loss: 0.3939 - accuracy: 0.8398 - val_loss: 0.1582 - val_accuracy: 0.9671 - lr: 0.0010\n",
      "Epoch 11/50\n",
      "36/36 [==============================] - 26s 721ms/step - loss: 0.3637 - accuracy: 0.8556 - val_loss: 0.1404 - val_accuracy: 0.9588 - lr: 0.0010\n",
      "Epoch 12/50\n",
      "36/36 [==============================] - 26s 719ms/step - loss: 0.3522 - accuracy: 0.8433 - val_loss: 0.1043 - val_accuracy: 0.9753 - lr: 0.0010\n",
      "Epoch 13/50\n",
      "36/36 [==============================] - 26s 721ms/step - loss: 0.2745 - accuracy: 0.8926 - val_loss: 0.0741 - val_accuracy: 0.9918 - lr: 0.0010\n",
      "Epoch 14/50\n",
      "36/36 [==============================] - 26s 724ms/step - loss: 0.2853 - accuracy: 0.8803 - val_loss: 0.0752 - val_accuracy: 0.9835 - lr: 0.0010\n",
      "Epoch 15/50\n",
      "36/36 [==============================] - 26s 716ms/step - loss: 0.2603 - accuracy: 0.8891 - val_loss: 0.0487 - val_accuracy: 1.0000 - lr: 0.0010\n",
      "Epoch 16/50\n",
      "36/36 [==============================] - 26s 726ms/step - loss: 0.2304 - accuracy: 0.9032 - val_loss: 0.0593 - val_accuracy: 0.9959 - lr: 0.0010\n",
      "Epoch 17/50\n",
      "36/36 [==============================] - 26s 731ms/step - loss: 0.2241 - accuracy: 0.9085 - val_loss: 0.0507 - val_accuracy: 0.9959 - lr: 0.0010\n",
      "Epoch 18/50\n",
      "36/36 [==============================] - 26s 721ms/step - loss: 0.2033 - accuracy: 0.9261 - val_loss: 0.0329 - val_accuracy: 0.9959 - lr: 0.0010\n",
      "Epoch 19/50\n",
      "36/36 [==============================] - 26s 717ms/step - loss: 0.2161 - accuracy: 0.9366 - val_loss: 0.0399 - val_accuracy: 0.9918 - lr: 0.0010\n",
      "Epoch 20/50\n",
      "36/36 [==============================] - 26s 714ms/step - loss: 0.1926 - accuracy: 0.9137 - val_loss: 0.0219 - val_accuracy: 1.0000 - lr: 0.0010\n",
      "Epoch 21/50\n",
      "36/36 [==============================] - 26s 730ms/step - loss: 0.2174 - accuracy: 0.9102 - val_loss: 0.0173 - val_accuracy: 1.0000 - lr: 0.0010\n",
      "Epoch 22/50\n",
      "36/36 [==============================] - 26s 718ms/step - loss: 0.2028 - accuracy: 0.9137 - val_loss: 0.0191 - val_accuracy: 1.0000 - lr: 0.0010\n",
      "Epoch 23/50\n",
      "36/36 [==============================] - 26s 718ms/step - loss: 0.1702 - accuracy: 0.9261 - val_loss: 0.0171 - val_accuracy: 1.0000 - lr: 0.0010\n",
      "Epoch 24/50\n",
      "36/36 [==============================] - 25s 713ms/step - loss: 0.1560 - accuracy: 0.9366 - val_loss: 0.0136 - val_accuracy: 1.0000 - lr: 0.0010\n",
      "Epoch 25/50\n",
      "36/36 [==============================] - 26s 724ms/step - loss: 0.1782 - accuracy: 0.9366 - val_loss: 0.0216 - val_accuracy: 1.0000 - lr: 0.0010\n",
      "Epoch 26/50\n",
      "36/36 [==============================] - 26s 723ms/step - loss: 0.1696 - accuracy: 0.9454 - val_loss: 0.0105 - val_accuracy: 1.0000 - lr: 0.0010\n",
      "Epoch 27/50\n",
      "36/36 [==============================] - 26s 723ms/step - loss: 0.1522 - accuracy: 0.9489 - val_loss: 0.0069 - val_accuracy: 1.0000 - lr: 0.0010\n",
      "Epoch 28/50\n",
      "36/36 [==============================] - 26s 722ms/step - loss: 0.1463 - accuracy: 0.9349 - val_loss: 0.0091 - val_accuracy: 1.0000 - lr: 0.0010\n",
      "Epoch 29/50\n",
      "36/36 [==============================] - 26s 726ms/step - loss: 0.1271 - accuracy: 0.9542 - val_loss: 0.0088 - val_accuracy: 1.0000 - lr: 0.0010\n",
      "Epoch 30/50\n",
      "36/36 [==============================] - 25s 706ms/step - loss: 0.1496 - accuracy: 0.9366 - val_loss: 0.0056 - val_accuracy: 1.0000 - lr: 0.0010\n",
      "Epoch 31/50\n",
      "36/36 [==============================] - 27s 758ms/step - loss: 0.1099 - accuracy: 0.9701 - val_loss: 0.0056 - val_accuracy: 1.0000 - lr: 0.0010\n",
      "Epoch 32/50\n",
      "36/36 [==============================] - 26s 717ms/step - loss: 0.1319 - accuracy: 0.9349 - val_loss: 0.0063 - val_accuracy: 1.0000 - lr: 0.0010\n",
      "Epoch 33/50\n",
      "36/36 [==============================] - 26s 717ms/step - loss: 0.1337 - accuracy: 0.9489 - val_loss: 0.0064 - val_accuracy: 1.0000 - lr: 0.0010\n",
      "Epoch 34/50\n",
      "36/36 [==============================] - 25s 712ms/step - loss: 0.1263 - accuracy: 0.9489 - val_loss: 0.0061 - val_accuracy: 1.0000 - lr: 0.0010\n",
      "Epoch 35/50\n",
      "36/36 [==============================] - ETA: 0s - loss: 0.1152 - accuracy: 0.9507"
     ]
    },
    {
     "name": "stderr",
     "output_type": "stream",
     "text": [
      "c:\\Python\\Lib\\site-packages\\keras\\src\\engine\\training.py:3000: UserWarning: You are saving your model as an HDF5 file via `model.save()`. This file format is considered legacy. We recommend using instead the native Keras format, e.g. `model.save('my_model.keras')`.\n",
      "  saving_api.save_model(\n"
     ]
    },
    {
     "name": "stdout",
     "output_type": "stream",
     "text": [
      "36/36 [==============================] - 26s 726ms/step - loss: 0.1152 - accuracy: 0.9507 - val_loss: 0.0036 - val_accuracy: 1.0000 - lr: 0.0010\n",
      "Epoch 36/50\n",
      "36/36 [==============================] - 27s 743ms/step - loss: 0.1493 - accuracy: 0.9349 - val_loss: 0.0038 - val_accuracy: 1.0000 - lr: 0.0010\n",
      "Epoch 37/50\n",
      "36/36 [==============================] - 25s 711ms/step - loss: 0.1099 - accuracy: 0.9648 - val_loss: 0.0043 - val_accuracy: 1.0000 - lr: 0.0010\n",
      "Epoch 38/50\n",
      "36/36 [==============================] - 26s 726ms/step - loss: 0.0906 - accuracy: 0.9665 - val_loss: 0.0029 - val_accuracy: 1.0000 - lr: 0.0010\n",
      "Epoch 39/50\n",
      "36/36 [==============================] - 27s 742ms/step - loss: 0.1028 - accuracy: 0.9542 - val_loss: 0.0028 - val_accuracy: 1.0000 - lr: 0.0010\n",
      "Epoch 40/50\n",
      "36/36 [==============================] - 27s 742ms/step - loss: 0.1074 - accuracy: 0.9560 - val_loss: 0.0029 - val_accuracy: 1.0000 - lr: 0.0010\n",
      "Epoch 41/50\n",
      "36/36 [==============================] - 26s 725ms/step - loss: 0.1176 - accuracy: 0.9630 - val_loss: 0.0026 - val_accuracy: 1.0000 - lr: 0.0010\n",
      "Epoch 42/50\n",
      "36/36 [==============================] - 26s 724ms/step - loss: 0.1269 - accuracy: 0.9419 - val_loss: 0.0040 - val_accuracy: 1.0000 - lr: 0.0010\n",
      "Epoch 43/50\n",
      "36/36 [==============================] - 26s 732ms/step - loss: 0.1195 - accuracy: 0.9577 - val_loss: 0.0025 - val_accuracy: 1.0000 - lr: 0.0010\n",
      "Epoch 44/50\n",
      "36/36 [==============================] - 26s 726ms/step - loss: 0.1097 - accuracy: 0.9489 - val_loss: 0.0043 - val_accuracy: 1.0000 - lr: 0.0010\n",
      "Epoch 45/50\n",
      "36/36 [==============================] - 26s 726ms/step - loss: 0.0875 - accuracy: 0.9630 - val_loss: 0.0027 - val_accuracy: 1.0000 - lr: 0.0010\n",
      "Epoch 46/50\n",
      "36/36 [==============================] - 27s 742ms/step - loss: 0.0961 - accuracy: 0.9560 - val_loss: 0.0025 - val_accuracy: 1.0000 - lr: 0.0010\n",
      "Epoch 47/50\n",
      "36/36 [==============================] - 27s 748ms/step - loss: 0.1116 - accuracy: 0.9560 - val_loss: 0.0021 - val_accuracy: 1.0000 - lr: 2.0000e-04\n",
      "Epoch 48/50\n",
      "36/36 [==============================] - 27s 746ms/step - loss: 0.0773 - accuracy: 0.9718 - val_loss: 0.0020 - val_accuracy: 1.0000 - lr: 2.0000e-04\n",
      "Epoch 49/50\n",
      "36/36 [==============================] - 26s 737ms/step - loss: 0.0706 - accuracy: 0.9718 - val_loss: 0.0018 - val_accuracy: 1.0000 - lr: 2.0000e-04\n",
      "Epoch 50/50\n",
      "36/36 [==============================] - 26s 738ms/step - loss: 0.0753 - accuracy: 0.9683 - val_loss: 0.0015 - val_accuracy: 1.0000 - lr: 2.0000e-04\n"
     ]
    }
   ],
   "source": [
    "epochs=50\n",
    "batch_size=16\n",
    "history = model.fit(train_X, train_label,batch_size=batch_size,epochs=epochs,verbose=1,validation_data=(validation_X, validation_label),callbacks=callbacks)\n"
   ]
  },
  {
   "cell_type": "code",
   "execution_count": 202,
   "metadata": {},
   "outputs": [
    {
     "name": "stdout",
     "output_type": "stream",
     "text": [
      "18/18 [==============================] - 18s 1s/step - loss: 0.0171 - accuracy: 0.9982\n"
     ]
    },
    {
     "data": {
      "text/plain": [
       "[0.01714949496090412, 0.9982394576072693]"
      ]
     },
     "execution_count": 202,
     "metadata": {},
     "output_type": "execute_result"
    }
   ],
   "source": [
    "model.evaluate(train_X,train_label)"
   ]
  },
  {
   "cell_type": "code",
   "execution_count": 49,
   "metadata": {},
   "outputs": [
    {
     "name": "stdout",
     "output_type": "stream",
     "text": [
      "18/18 [==============================] - 19s 1s/step - loss: 0.3564 - accuracy: 0.9297\n"
     ]
    },
    {
     "data": {
      "text/plain": [
       "[0.3563951551914215, 0.9297012090682983]"
      ]
     },
     "execution_count": 49,
     "metadata": {},
     "output_type": "execute_result"
    }
   ],
   "source": [
    "model.evaluate(test_X,test_label)"
   ]
  },
  {
   "cell_type": "code",
   "execution_count": null,
   "metadata": {},
   "outputs": [],
   "source": []
  }
 ],
 "metadata": {
  "kernelspec": {
   "display_name": "Python 3",
   "language": "python",
   "name": "python3"
  },
  "language_info": {
   "codemirror_mode": {
    "name": "ipython",
    "version": 3
   },
   "file_extension": ".py",
   "mimetype": "text/x-python",
   "name": "python",
   "nbconvert_exporter": "python",
   "pygments_lexer": "ipython3",
   "version": "3.11.4"
  },
  "orig_nbformat": 4
 },
 "nbformat": 4,
 "nbformat_minor": 2
}
