{
 "cells": [
  {
   "cell_type": "code",
   "execution_count": 20,
   "metadata": {},
   "outputs": [],
   "source": [
    "import pandas as pd\n",
    "import numpy as np\n",
    "import tensorflow as tf\n",
    "import os\n",
    "import cv2\n",
    "import matplotlib.pyplot as plt\n",
    "from tensorflow.keras.callbacks import Callback, EarlyStopping, ReduceLROnPlateau, ModelCheckpoint\n",
    "from sklearn.model_selection import train_test_split\n"
   ]
  },
  {
   "cell_type": "code",
   "execution_count": 2,
   "metadata": {},
   "outputs": [],
   "source": [
    "def make_dataset(path):\n",
    "    images=[]\n",
    "    angry=0\n",
    "    sad=0\n",
    "    happy=0\n",
    "    other=0\n",
    "    for dir in os.listdir(path):\n",
    "        file=os.path.join(path,dir)\n",
    "        for filename in os.listdir(file):\n",
    "            new_path=os.path.join(file,filename)\n",
    "            for img in os.listdir(new_path):\n",
    "                image=cv2.imread(os.path.join(new_path,img))\n",
    "                image=cv2.resize(image,(224,224))\n",
    "                if image is not None:\n",
    "                    images.append(image)\n",
    "                    if filename==\"Angry\":\n",
    "                        angry+=1\n",
    "                    elif filename==\"Sad\":\n",
    "                        sad+=1\n",
    "                    elif filename==\"happy\":\n",
    "                        happy+=1\n",
    "                    else:\n",
    "                        other+=1\n",
    "    Angry=np.zeros(angry)\n",
    "    Other=np.ones(other)\n",
    "    Sad=np.repeat(2,sad)\n",
    "    Happy=np.repeat(3,happy)\n",
    "    label=np.hstack((Angry,Other,Sad,Happy))\n",
    "    label=tf.keras.utils.to_categorical(label,num_classes=4)\n",
    "    return images,label"
   ]
  },
  {
   "cell_type": "code",
   "execution_count": 3,
   "metadata": {},
   "outputs": [
    {
     "name": "stdout",
     "output_type": "stream",
     "text": [
      "(1074, 224, 224, 3) (1074, 4)\n"
     ]
    }
   ],
   "source": [
    "images,label=make_dataset(\"Master Folder\")\n",
    "images=np.array(images)\n",
    "print(images.shape,label.shape)"
   ]
  },
  {
   "cell_type": "code",
   "execution_count": 4,
   "metadata": {},
   "outputs": [],
   "source": [
    "train_X,trail_X,train_label,trail_label=train_test_split(images,label,test_size=0.3,random_state=42,shuffle=True,stratify=label)\n",
    "validation_X,test_X,validation_label,test_label=train_test_split(images,label,test_size=0.5,random_state=42,shuffle=True,stratify=label)"
   ]
  },
  {
   "cell_type": "code",
   "execution_count": 5,
   "metadata": {},
   "outputs": [],
   "source": [
    "def preprocess_image(images):\n",
    "    image=tf.cast(images,tf.float32)/255.0\n",
    "    return image"
   ]
  },
  {
   "cell_type": "code",
   "execution_count": 6,
   "metadata": {},
   "outputs": [],
   "source": [
    "train_X=preprocess_image(train_X)\n",
    "validation_X=preprocess_image(validation_X)\n",
    "test_X=preprocess_image(test_X)"
   ]
  },
  {
   "cell_type": "code",
   "execution_count": 50,
   "metadata": {},
   "outputs": [],
   "source": [
    "callbacks=[EarlyStopping(monitor = \"val_loss\", patience = 10, \n",
    "            restore_best_weights = True, mode='min')\n",
    "            ,ReduceLROnPlateau(monitor='val_loss', factor=0.2, patience=5, mode='min')\n",
    "            ,ModelCheckpoint('.mdl_wts.hdf5', save_best_only=True, monitor='val_loss', mode='min')\n",
    "            ]"
   ]
  },
  {
   "cell_type": "code",
   "execution_count": 63,
   "metadata": {},
   "outputs": [],
   "source": [
    "def model_build(inputs):\n",
    "    \n",
    "    x=tf.keras.layers.Conv2D(16,activation='relu',kernel_size=3,input_shape=(224,224,3))(inputs)\n",
    "    x=tf.keras.layers.AveragePooling2D((2,2))(x)\n",
    "    \n",
    "    x=tf.keras.layers.Conv2D(32,activation='relu',kernel_size=3)(x)\n",
    "    x=tf.keras.layers.AveragePooling2D((2,2))(x)\n",
    "    \n",
    "    x=tf.keras.layers.Conv2D(64,activation='relu',kernel_size=3)(x)\n",
    "    x=tf.keras.layers.AveragePooling2D((13,13))(x)\n",
    "    \n",
    "    x=tf.keras.layers.Flatten()(x)\n",
    "    x=tf.keras.layers.Dropout(0.5)(x)\n",
    "    x=tf.keras.layers.Dense(256,activation='relu')(x)\n",
    "    x=tf.keras.layers.Dropout(0.5)(x)\n",
    "    x=tf.keras.layers.Dense(4,activation='sigmoid')(x)\n",
    "    \n",
    "    return x"
   ]
  },
  {
   "cell_type": "code",
   "execution_count": 64,
   "metadata": {},
   "outputs": [],
   "source": [
    "def define_compile_model():\n",
    "    inputs=tf.keras.layers.Input(shape=(224,224,3))\n",
    "    output=model_build(inputs)\n",
    "    model=tf.keras.Model(inputs=inputs,outputs=output)\n",
    "    model.compile(optimizer='adam',loss='categorical_crossentropy',metrics=['accuracy'])\n",
    "    return model"
   ]
  },
  {
   "cell_type": "code",
   "execution_count": 65,
   "metadata": {},
   "outputs": [
    {
     "name": "stdout",
     "output_type": "stream",
     "text": [
      "Model: \"model_12\"\n",
      "_________________________________________________________________\n",
      " Layer (type)                Output Shape              Param #   \n",
      "=================================================================\n",
      " input_13 (InputLayer)       [(None, 224, 224, 3)]     0         \n",
      "                                                                 \n",
      " conv2d_36 (Conv2D)          (None, 222, 222, 16)      448       \n",
      "                                                                 \n",
      " average_pooling2d_36 (Avera  (None, 111, 111, 16)     0         \n",
      " gePooling2D)                                                    \n",
      "                                                                 \n",
      " conv2d_37 (Conv2D)          (None, 109, 109, 32)      4640      \n",
      "                                                                 \n",
      " average_pooling2d_37 (Avera  (None, 54, 54, 32)       0         \n",
      " gePooling2D)                                                    \n",
      "                                                                 \n",
      " conv2d_38 (Conv2D)          (None, 52, 52, 64)        18496     \n",
      "                                                                 \n",
      " average_pooling2d_38 (Avera  (None, 4, 4, 64)         0         \n",
      " gePooling2D)                                                    \n",
      "                                                                 \n",
      " flatten_12 (Flatten)        (None, 1024)              0         \n",
      "                                                                 \n",
      " dropout_28 (Dropout)        (None, 1024)              0         \n",
      "                                                                 \n",
      " dense_29 (Dense)            (None, 256)               262400    \n",
      "                                                                 \n",
      " dropout_29 (Dropout)        (None, 256)               0         \n",
      "                                                                 \n",
      " dense_30 (Dense)            (None, 4)                 1028      \n",
      "                                                                 \n",
      "=================================================================\n",
      "Total params: 287,012\n",
      "Trainable params: 287,012\n",
      "Non-trainable params: 0\n",
      "_________________________________________________________________\n"
     ]
    }
   ],
   "source": [
    "model=define_compile_model()\n",
    "model.summary()"
   ]
  },
  {
   "cell_type": "code",
   "execution_count": 68,
   "metadata": {},
   "outputs": [
    {
     "name": "stdout",
     "output_type": "stream",
     "text": [
      "Epoch 1/30\n",
      "12/12 [==============================] - 17s 1s/step - loss: 0.3669 - accuracy: 0.8575 - val_loss: 0.3006 - val_accuracy: 0.9534 - lr: 0.0010\n",
      "Epoch 2/30\n",
      "12/12 [==============================] - 17s 1s/step - loss: 0.4345 - accuracy: 0.8309 - val_loss: 0.2880 - val_accuracy: 0.9460 - lr: 0.0010\n",
      "Epoch 3/30\n",
      "12/12 [==============================] - 16s 1s/step - loss: 0.4302 - accuracy: 0.8216 - val_loss: 0.3079 - val_accuracy: 0.9572 - lr: 0.0010\n",
      "Epoch 4/30\n",
      "12/12 [==============================] - 16s 1s/step - loss: 0.4176 - accuracy: 0.8522 - val_loss: 0.2837 - val_accuracy: 0.9572 - lr: 0.0010\n",
      "Epoch 5/30\n",
      "12/12 [==============================] - 16s 1s/step - loss: 0.3885 - accuracy: 0.8482 - val_loss: 0.2980 - val_accuracy: 0.9628 - lr: 0.0010\n",
      "Epoch 6/30\n",
      "12/12 [==============================] - 15s 1s/step - loss: 0.3917 - accuracy: 0.8482 - val_loss: 0.2719 - val_accuracy: 0.9683 - lr: 0.0010\n",
      "Epoch 7/30\n",
      "12/12 [==============================] - 15s 1s/step - loss: 0.4052 - accuracy: 0.8455 - val_loss: 0.3087 - val_accuracy: 0.9665 - lr: 0.0010\n",
      "Epoch 8/30\n",
      "12/12 [==============================] - 16s 1s/step - loss: 0.3569 - accuracy: 0.8748 - val_loss: 0.3062 - val_accuracy: 0.9665 - lr: 0.0010\n",
      "Epoch 9/30\n",
      "12/12 [==============================] - 16s 1s/step - loss: 0.3213 - accuracy: 0.8842 - val_loss: 0.2874 - val_accuracy: 0.9590 - lr: 0.0010\n",
      "Epoch 10/30\n",
      "12/12 [==============================] - 16s 1s/step - loss: 0.3695 - accuracy: 0.8881 - val_loss: 0.2817 - val_accuracy: 0.9702 - lr: 0.0010\n",
      "Epoch 11/30\n",
      "12/12 [==============================] - 16s 1s/step - loss: 0.3790 - accuracy: 0.8628 - val_loss: 0.2785 - val_accuracy: 0.9702 - lr: 0.0010\n",
      "Epoch 12/30\n",
      "12/12 [==============================] - 16s 1s/step - loss: 0.3416 - accuracy: 0.8908 - val_loss: 0.2721 - val_accuracy: 0.9739 - lr: 2.0000e-04\n",
      "Epoch 13/30\n",
      "12/12 [==============================] - 16s 1s/step - loss: 0.3101 - accuracy: 0.8802 - val_loss: 0.2584 - val_accuracy: 0.9758 - lr: 2.0000e-04\n",
      "Epoch 14/30\n",
      "12/12 [==============================] - 16s 1s/step - loss: 0.3105 - accuracy: 0.8868 - val_loss: 0.2574 - val_accuracy: 0.9739 - lr: 2.0000e-04\n",
      "Epoch 15/30\n",
      "12/12 [==============================] - 16s 1s/step - loss: 0.3100 - accuracy: 0.8815 - val_loss: 0.2497 - val_accuracy: 0.9777 - lr: 2.0000e-04\n",
      "Epoch 16/30\n",
      "12/12 [==============================] - 16s 1s/step - loss: 0.2961 - accuracy: 0.8948 - val_loss: 0.2537 - val_accuracy: 0.9758 - lr: 2.0000e-04\n",
      "Epoch 17/30\n",
      "12/12 [==============================] - 16s 1s/step - loss: 0.2894 - accuracy: 0.8961 - val_loss: 0.2585 - val_accuracy: 0.9758 - lr: 2.0000e-04\n",
      "Epoch 18/30\n",
      "12/12 [==============================] - 16s 1s/step - loss: 0.2838 - accuracy: 0.9161 - val_loss: 0.2519 - val_accuracy: 0.9739 - lr: 2.0000e-04\n",
      "Epoch 19/30\n",
      "12/12 [==============================] - 16s 1s/step - loss: 0.3090 - accuracy: 0.8815 - val_loss: 0.2514 - val_accuracy: 0.9739 - lr: 2.0000e-04\n",
      "Epoch 20/30\n",
      "12/12 [==============================] - 16s 1s/step - loss: 0.3164 - accuracy: 0.9028 - val_loss: 0.2454 - val_accuracy: 0.9777 - lr: 2.0000e-04\n",
      "Epoch 21/30\n",
      "12/12 [==============================] - 16s 1s/step - loss: 0.2805 - accuracy: 0.8975 - val_loss: 0.2465 - val_accuracy: 0.9739 - lr: 2.0000e-04\n",
      "Epoch 22/30\n",
      "12/12 [==============================] - 16s 1s/step - loss: 0.3045 - accuracy: 0.8935 - val_loss: 0.2437 - val_accuracy: 0.9795 - lr: 2.0000e-04\n",
      "Epoch 23/30\n",
      "12/12 [==============================] - 16s 1s/step - loss: 0.2736 - accuracy: 0.9108 - val_loss: 0.2486 - val_accuracy: 0.9795 - lr: 2.0000e-04\n",
      "Epoch 24/30\n",
      "12/12 [==============================] - 16s 1s/step - loss: 0.3199 - accuracy: 0.9001 - val_loss: 0.2584 - val_accuracy: 0.9758 - lr: 2.0000e-04\n",
      "Epoch 25/30\n",
      "12/12 [==============================] - 16s 1s/step - loss: 0.2758 - accuracy: 0.9028 - val_loss: 0.2413 - val_accuracy: 0.9795 - lr: 2.0000e-04\n",
      "Epoch 26/30\n",
      "12/12 [==============================] - 16s 1s/step - loss: 0.2967 - accuracy: 0.8828 - val_loss: 0.2431 - val_accuracy: 0.9777 - lr: 2.0000e-04\n",
      "Epoch 27/30\n",
      "12/12 [==============================] - 16s 1s/step - loss: 0.2775 - accuracy: 0.9161 - val_loss: 0.2433 - val_accuracy: 0.9739 - lr: 2.0000e-04\n",
      "Epoch 28/30\n",
      "12/12 [==============================] - 16s 1s/step - loss: 0.2941 - accuracy: 0.8815 - val_loss: 0.2406 - val_accuracy: 0.9777 - lr: 2.0000e-04\n",
      "Epoch 29/30\n",
      "12/12 [==============================] - 16s 1s/step - loss: 0.2769 - accuracy: 0.9041 - val_loss: 0.2403 - val_accuracy: 0.9758 - lr: 2.0000e-04\n",
      "Epoch 30/30\n",
      "12/12 [==============================] - 16s 1s/step - loss: 0.2957 - accuracy: 0.9055 - val_loss: 0.2440 - val_accuracy: 0.9758 - lr: 2.0000e-04\n"
     ]
    }
   ],
   "source": [
    "epochs=30\n",
    "batch_size=64\n",
    "history = model.fit(train_X, train_label,batch_size=batch_size,epochs=epochs,verbose=1,validation_data=(validation_X, validation_label),callbacks=callbacks)\n"
   ]
  },
  {
   "cell_type": "code",
   "execution_count": 69,
   "metadata": {},
   "outputs": [
    {
     "name": "stdout",
     "output_type": "stream",
     "text": [
      "17/17 [==============================] - 2s 143ms/step - loss: 0.7763 - accuracy: 0.7877\n"
     ]
    },
    {
     "data": {
      "text/plain": [
       "[0.7762681841850281, 0.7877094745635986]"
      ]
     },
     "execution_count": 69,
     "metadata": {},
     "output_type": "execute_result"
    }
   ],
   "source": [
    "model.evaluate(test_X,test_label)"
   ]
  },
  {
   "cell_type": "code",
   "execution_count": 48,
   "metadata": {},
   "outputs": [],
   "source": [
    "model=define_compile_model()"
   ]
  },
  {
   "cell_type": "code",
   "execution_count": 49,
   "metadata": {},
   "outputs": [
    {
     "ename": "ValueError",
     "evalue": "Cannot assign value to variable ' dense_21/kernel:0': Shape mismatch.The variable shape (10816, 64), and the assigned value shape (10816, 256) are incompatible.",
     "output_type": "error",
     "traceback": [
      "\u001b[1;31m---------------------------------------------------------------------------\u001b[0m",
      "\u001b[1;31mValueError\u001b[0m                                Traceback (most recent call last)",
      "\u001b[1;32mc:\\Users\\admin\\Desktop\\Neural Network\\MY Projects\\pets emotion\\emotion_detector.ipynb Cell 14\u001b[0m line \u001b[0;36m1\n\u001b[1;32m----> <a href='vscode-notebook-cell:/c%3A/Users/admin/Desktop/Neural%20Network/MY%20Projects/pets%20emotion/emotion_detector.ipynb#X21sZmlsZQ%3D%3D?line=0'>1</a>\u001b[0m model\u001b[39m.\u001b[39;49mload_weights(\u001b[39m\"\u001b[39;49m\u001b[39m.mdl_wts.hdf5\u001b[39;49m\u001b[39m\"\u001b[39;49m)\n",
      "File \u001b[1;32mc:\\Python\\Lib\\site-packages\\keras\\utils\\traceback_utils.py:70\u001b[0m, in \u001b[0;36mfilter_traceback.<locals>.error_handler\u001b[1;34m(*args, **kwargs)\u001b[0m\n\u001b[0;32m     67\u001b[0m     filtered_tb \u001b[39m=\u001b[39m _process_traceback_frames(e\u001b[39m.\u001b[39m__traceback__)\n\u001b[0;32m     68\u001b[0m     \u001b[39m# To get the full stack trace, call:\u001b[39;00m\n\u001b[0;32m     69\u001b[0m     \u001b[39m# `tf.debugging.disable_traceback_filtering()`\u001b[39;00m\n\u001b[1;32m---> 70\u001b[0m     \u001b[39mraise\u001b[39;00m e\u001b[39m.\u001b[39mwith_traceback(filtered_tb) \u001b[39mfrom\u001b[39;00m \u001b[39mNone\u001b[39m\n\u001b[0;32m     71\u001b[0m \u001b[39mfinally\u001b[39;00m:\n\u001b[0;32m     72\u001b[0m     \u001b[39mdel\u001b[39;00m filtered_tb\n",
      "File \u001b[1;32mc:\\Python\\Lib\\site-packages\\keras\\backend.py:4360\u001b[0m, in \u001b[0;36m_assign_value_to_variable\u001b[1;34m(variable, value)\u001b[0m\n\u001b[0;32m   4357\u001b[0m     variable\u001b[39m.\u001b[39massign(d_value)\n\u001b[0;32m   4358\u001b[0m \u001b[39melse\u001b[39;00m:\n\u001b[0;32m   4359\u001b[0m     \u001b[39m# For the normal tf.Variable assign\u001b[39;00m\n\u001b[1;32m-> 4360\u001b[0m     variable\u001b[39m.\u001b[39;49massign(value)\n",
      "\u001b[1;31mValueError\u001b[0m: Cannot assign value to variable ' dense_21/kernel:0': Shape mismatch.The variable shape (10816, 64), and the assigned value shape (10816, 256) are incompatible."
     ]
    }
   ],
   "source": [
    "model.load_weights(\".mdl_wts.hdf5\")"
   ]
  },
  {
   "cell_type": "code",
   "execution_count": 43,
   "metadata": {},
   "outputs": [],
   "source": [
    "aug=tf.keras.preprocessing.image.ImageDataGenerator()"
   ]
  },
  {
   "cell_type": "code",
   "execution_count": 44,
   "metadata": {},
   "outputs": [],
   "source": [
    "aug=tf.keras.preprocessing.image.ImageDataGenerator(rotation_range=20,fill_mode=\"nearest\",horizontal_flip=True,width_shift_range=0.2,height_shift_range=0.2)"
   ]
  }
 ],
 "metadata": {
  "kernelspec": {
   "display_name": "Python 3",
   "language": "python",
   "name": "python3"
  },
  "language_info": {
   "codemirror_mode": {
    "name": "ipython",
    "version": 3
   },
   "file_extension": ".py",
   "mimetype": "text/x-python",
   "name": "python",
   "nbconvert_exporter": "python",
   "pygments_lexer": "ipython3",
   "version": "3.11.2"
  },
  "orig_nbformat": 4
 },
 "nbformat": 4,
 "nbformat_minor": 2
}
